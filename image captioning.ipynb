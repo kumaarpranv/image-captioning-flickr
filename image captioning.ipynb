{
 "cells": [
  {
   "cell_type": "code",
   "execution_count": 1,
   "metadata": {},
   "outputs": [],
   "source": [
    "%matplotlib inline\n",
    "import torch\n",
    "import torch.nn as nn\n",
    "import torch.nn.functional as F\n",
    "import torch.optim as optim\n",
    "import torch.utils.data as data\n",
    "\n",
    "\n",
    "import torchvision.datasets as datasets\n",
    "import torchvision\n",
    "\n",
    "from sklearn import metrics\n",
    "from sklearn import decomposition\n",
    "from sklearn import manifold\n",
    "import matplotlib.pyplot as plt\n",
    "import numpy as np\n",
    "\n",
    "import os\n",
    "import random\n",
    "import time"
   ]
  },
  {
   "cell_type": "code",
   "execution_count": 2,
   "metadata": {},
   "outputs": [],
   "source": [
    "import transformers\n",
    "\n",
    "tokenizer = transformers.BertTokenizer.from_pretrained(\"bert-base-uncased\",do_lower_case=True)"
   ]
  },
  {
   "cell_type": "code",
   "execution_count": 3,
   "metadata": {},
   "outputs": [],
   "source": [
    "SEED = 1234\n",
    "\n",
    "random.seed(SEED)\n",
    "np.random.seed(SEED)\n",
    "torch.manual_seed(SEED)\n",
    "torch.cuda.manual_seed(SEED)\n",
    "torch.backends.cudnn.deterministic = True"
   ]
  },
  {
   "cell_type": "code",
   "execution_count": 4,
   "metadata": {},
   "outputs": [
    {
     "name": "stdout",
     "output_type": "stream",
     "text": [
      "None\n"
     ]
    }
   ],
   "source": [
    "print(os.environ.get('CUDA_LAUNCH_BLOCKING'))"
   ]
  },
  {
   "cell_type": "code",
   "execution_count": 5,
   "metadata": {},
   "outputs": [],
   "source": [
    "os.environ['CUDA_LAUNCH_BLOCKING']='1'\n",
    "# REPLACE THESE WITH YOUR OWN KAGGLE USERNAME AND KEY\n",
    "os.environ['KAGGLE_USERNAME'] = ''\n",
    "os.environ['KAGGLE_KEY'] = ''"
   ]
  },
  {
   "cell_type": "code",
   "execution_count": 6,
   "metadata": {},
   "outputs": [
    {
     "name": "stdout",
     "output_type": "stream",
     "text": [
      "flickr8k.zip: Skipping, found more recently modified local copy (use --force to force download)\n"
     ]
    }
   ],
   "source": [
    "!kaggle datasets download adityajn105/flickr8k -p ./caption/\n"
   ]
  },
  {
   "cell_type": "code",
   "execution_count": 6,
   "metadata": {},
   "outputs": [],
   "source": [
    "ROOT='./caption'\n",
    "datasets.utils.extract_archive('./caption/flickr8k.zip', os.path.join(ROOT, 'flickr'))"
   ]
  },
  {
   "cell_type": "code",
   "execution_count": 7,
   "metadata": {},
   "outputs": [],
   "source": [
    "data_dir = f'{ROOT}/flickr'\n",
    "image_dir = f'{data_dir}/images'\n",
    "csv_file = f'{data_dir}/captions.txt'"
   ]
  },
  {
   "cell_type": "code",
   "execution_count": 8,
   "metadata": {},
   "outputs": [],
   "source": [
    "import pandas as pd\n",
    "\n",
    "df = pd.read_csv(csv_file, delimiter=',')\n"
   ]
  },
  {
   "cell_type": "code",
   "execution_count": 9,
   "metadata": {},
   "outputs": [
    {
     "data": {
      "text/html": [
       "<div>\n",
       "<style scoped>\n",
       "    .dataframe tbody tr th:only-of-type {\n",
       "        vertical-align: middle;\n",
       "    }\n",
       "\n",
       "    .dataframe tbody tr th {\n",
       "        vertical-align: top;\n",
       "    }\n",
       "\n",
       "    .dataframe thead th {\n",
       "        text-align: right;\n",
       "    }\n",
       "</style>\n",
       "<table border=\"1\" class=\"dataframe\">\n",
       "  <thead>\n",
       "    <tr style=\"text-align: right;\">\n",
       "      <th></th>\n",
       "      <th>image</th>\n",
       "      <th>caption</th>\n",
       "    </tr>\n",
       "  </thead>\n",
       "  <tbody>\n",
       "    <tr>\n",
       "      <th>40450</th>\n",
       "      <td>997722733_0cb5439472.jpg</td>\n",
       "      <td>A man in a pink shirt climbs a rock face</td>\n",
       "    </tr>\n",
       "    <tr>\n",
       "      <th>40451</th>\n",
       "      <td>997722733_0cb5439472.jpg</td>\n",
       "      <td>A man is rock climbing high in the air .</td>\n",
       "    </tr>\n",
       "    <tr>\n",
       "      <th>40452</th>\n",
       "      <td>997722733_0cb5439472.jpg</td>\n",
       "      <td>A person in a red shirt climbing up a rock fac...</td>\n",
       "    </tr>\n",
       "    <tr>\n",
       "      <th>40453</th>\n",
       "      <td>997722733_0cb5439472.jpg</td>\n",
       "      <td>A rock climber in a red shirt .</td>\n",
       "    </tr>\n",
       "    <tr>\n",
       "      <th>40454</th>\n",
       "      <td>997722733_0cb5439472.jpg</td>\n",
       "      <td>A rock climber practices on a rock climbing wa...</td>\n",
       "    </tr>\n",
       "  </tbody>\n",
       "</table>\n",
       "</div>"
      ],
      "text/plain": [
       "                          image  \\\n",
       "40450  997722733_0cb5439472.jpg   \n",
       "40451  997722733_0cb5439472.jpg   \n",
       "40452  997722733_0cb5439472.jpg   \n",
       "40453  997722733_0cb5439472.jpg   \n",
       "40454  997722733_0cb5439472.jpg   \n",
       "\n",
       "                                                 caption  \n",
       "40450           A man in a pink shirt climbs a rock face  \n",
       "40451           A man is rock climbing high in the air .  \n",
       "40452  A person in a red shirt climbing up a rock fac...  \n",
       "40453                    A rock climber in a red shirt .  \n",
       "40454  A rock climber practices on a rock climbing wa...  "
      ]
     },
     "execution_count": 9,
     "metadata": {},
     "output_type": "execute_result"
    }
   ],
   "source": [
    "df.tail()"
   ]
  },
  {
   "cell_type": "code",
   "execution_count": 10,
   "metadata": {},
   "outputs": [
    {
     "data": {
      "text/plain": [
       "False"
      ]
     },
     "execution_count": 10,
     "metadata": {},
     "output_type": "execute_result"
    }
   ],
   "source": [
    "df['image'].is_unique"
   ]
  },
  {
   "cell_type": "code",
   "execution_count": 11,
   "metadata": {},
   "outputs": [
    {
     "data": {
      "text/html": [
       "<div>\n",
       "<style scoped>\n",
       "    .dataframe tbody tr th:only-of-type {\n",
       "        vertical-align: middle;\n",
       "    }\n",
       "\n",
       "    .dataframe tbody tr th {\n",
       "        vertical-align: top;\n",
       "    }\n",
       "\n",
       "    .dataframe thead th {\n",
       "        text-align: right;\n",
       "    }\n",
       "</style>\n",
       "<table border=\"1\" class=\"dataframe\">\n",
       "  <thead>\n",
       "    <tr style=\"text-align: right;\">\n",
       "      <th></th>\n",
       "      <th>image</th>\n",
       "      <th>caption</th>\n",
       "    </tr>\n",
       "  </thead>\n",
       "  <tbody>\n",
       "    <tr>\n",
       "      <th>40450</th>\n",
       "      <td>997722733_0cb5439472.jpg</td>\n",
       "      <td>A man in a pink shirt climbs a rock face</td>\n",
       "    </tr>\n",
       "    <tr>\n",
       "      <th>40451</th>\n",
       "      <td>997722733_0cb5439472.jpg</td>\n",
       "      <td>A man is rock climbing high in the air .</td>\n",
       "    </tr>\n",
       "    <tr>\n",
       "      <th>40452</th>\n",
       "      <td>997722733_0cb5439472.jpg</td>\n",
       "      <td>A person in a red shirt climbing up a rock fac...</td>\n",
       "    </tr>\n",
       "    <tr>\n",
       "      <th>40453</th>\n",
       "      <td>997722733_0cb5439472.jpg</td>\n",
       "      <td>A rock climber in a red shirt .</td>\n",
       "    </tr>\n",
       "    <tr>\n",
       "      <th>40454</th>\n",
       "      <td>997722733_0cb5439472.jpg</td>\n",
       "      <td>A rock climber practices on a rock climbing wa...</td>\n",
       "    </tr>\n",
       "  </tbody>\n",
       "</table>\n",
       "</div>"
      ],
      "text/plain": [
       "                          image  \\\n",
       "40450  997722733_0cb5439472.jpg   \n",
       "40451  997722733_0cb5439472.jpg   \n",
       "40452  997722733_0cb5439472.jpg   \n",
       "40453  997722733_0cb5439472.jpg   \n",
       "40454  997722733_0cb5439472.jpg   \n",
       "\n",
       "                                                 caption  \n",
       "40450           A man in a pink shirt climbs a rock face  \n",
       "40451           A man is rock climbing high in the air .  \n",
       "40452  A person in a red shirt climbing up a rock fac...  \n",
       "40453                    A rock climber in a red shirt .  \n",
       "40454  A rock climber practices on a rock climbing wa...  "
      ]
     },
     "execution_count": 11,
     "metadata": {},
     "output_type": "execute_result"
    }
   ],
   "source": [
    "df.loc[df['image'] == '997722733_0cb5439472.jpg'] "
   ]
  },
  {
   "cell_type": "code",
   "execution_count": 12,
   "metadata": {},
   "outputs": [],
   "source": [
    "g = df.groupby([\"image\"]).cumcount().add(1)\n",
    "df = df.set_index([\"image\", g]).unstack(fill_value=0).sort_index(axis=1, level=1)\n",
    "df.columns = [\"{}{}\".format(a, b) for a, b in df.columns]\n",
    "\n",
    "df = df.reset_index()"
   ]
  },
  {
   "cell_type": "code",
   "execution_count": 13,
   "metadata": {},
   "outputs": [],
   "source": [
    "df['image'] = image_dir+'/'+df['image']\n",
    "df.rename(columns = {'image':'image_name'}, inplace = True)"
   ]
  },
  {
   "cell_type": "code",
   "execution_count": 14,
   "metadata": {},
   "outputs": [
    {
     "data": {
      "text/html": [
       "<div>\n",
       "<style scoped>\n",
       "    .dataframe tbody tr th:only-of-type {\n",
       "        vertical-align: middle;\n",
       "    }\n",
       "\n",
       "    .dataframe tbody tr th {\n",
       "        vertical-align: top;\n",
       "    }\n",
       "\n",
       "    .dataframe thead th {\n",
       "        text-align: right;\n",
       "    }\n",
       "</style>\n",
       "<table border=\"1\" class=\"dataframe\">\n",
       "  <thead>\n",
       "    <tr style=\"text-align: right;\">\n",
       "      <th></th>\n",
       "      <th>image_name</th>\n",
       "      <th>caption1</th>\n",
       "      <th>caption2</th>\n",
       "      <th>caption3</th>\n",
       "      <th>caption4</th>\n",
       "      <th>caption5</th>\n",
       "    </tr>\n",
       "  </thead>\n",
       "  <tbody>\n",
       "    <tr>\n",
       "      <th>0</th>\n",
       "      <td>./caption/flickr/images/1000268201_693b08cb0e.jpg</td>\n",
       "      <td>A child in a pink dress is climbing up a set o...</td>\n",
       "      <td>A girl going into a wooden building .</td>\n",
       "      <td>A little girl climbing into a wooden playhouse .</td>\n",
       "      <td>A little girl climbing the stairs to her playh...</td>\n",
       "      <td>A little girl in a pink dress going into a woo...</td>\n",
       "    </tr>\n",
       "    <tr>\n",
       "      <th>1</th>\n",
       "      <td>./caption/flickr/images/1001773457_577c3a7d70.jpg</td>\n",
       "      <td>A black dog and a spotted dog are fighting</td>\n",
       "      <td>A black dog and a tri-colored dog playing with...</td>\n",
       "      <td>A black dog and a white dog with brown spots a...</td>\n",
       "      <td>Two dogs of different breeds looking at each o...</td>\n",
       "      <td>Two dogs on pavement moving toward each other .</td>\n",
       "    </tr>\n",
       "    <tr>\n",
       "      <th>2</th>\n",
       "      <td>./caption/flickr/images/1002674143_1b742ab4b8.jpg</td>\n",
       "      <td>A little girl covered in paint sits in front o...</td>\n",
       "      <td>A little girl is sitting in front of a large p...</td>\n",
       "      <td>A small girl in the grass plays with fingerpai...</td>\n",
       "      <td>There is a girl with pigtails sitting in front...</td>\n",
       "      <td>Young girl with pigtails painting outside in t...</td>\n",
       "    </tr>\n",
       "    <tr>\n",
       "      <th>3</th>\n",
       "      <td>./caption/flickr/images/1003163366_44323f5815.jpg</td>\n",
       "      <td>A man lays on a bench while his dog sits by him .</td>\n",
       "      <td>A man lays on the bench to which a white dog i...</td>\n",
       "      <td>a man sleeping on a bench outside with a white...</td>\n",
       "      <td>A shirtless man lies on a park bench with his ...</td>\n",
       "      <td>man laying on bench holding leash of dog sitti...</td>\n",
       "    </tr>\n",
       "    <tr>\n",
       "      <th>4</th>\n",
       "      <td>./caption/flickr/images/1007129816_e794419615.jpg</td>\n",
       "      <td>A man in an orange hat starring at something .</td>\n",
       "      <td>A man wears an orange hat and glasses .</td>\n",
       "      <td>A man with gauges and glasses is wearing a Bli...</td>\n",
       "      <td>A man with glasses is wearing a beer can croch...</td>\n",
       "      <td>The man with pierced ears is wearing glasses a...</td>\n",
       "    </tr>\n",
       "  </tbody>\n",
       "</table>\n",
       "</div>"
      ],
      "text/plain": [
       "                                          image_name  \\\n",
       "0  ./caption/flickr/images/1000268201_693b08cb0e.jpg   \n",
       "1  ./caption/flickr/images/1001773457_577c3a7d70.jpg   \n",
       "2  ./caption/flickr/images/1002674143_1b742ab4b8.jpg   \n",
       "3  ./caption/flickr/images/1003163366_44323f5815.jpg   \n",
       "4  ./caption/flickr/images/1007129816_e794419615.jpg   \n",
       "\n",
       "                                            caption1  \\\n",
       "0  A child in a pink dress is climbing up a set o...   \n",
       "1         A black dog and a spotted dog are fighting   \n",
       "2  A little girl covered in paint sits in front o...   \n",
       "3  A man lays on a bench while his dog sits by him .   \n",
       "4     A man in an orange hat starring at something .   \n",
       "\n",
       "                                            caption2  \\\n",
       "0              A girl going into a wooden building .   \n",
       "1  A black dog and a tri-colored dog playing with...   \n",
       "2  A little girl is sitting in front of a large p...   \n",
       "3  A man lays on the bench to which a white dog i...   \n",
       "4            A man wears an orange hat and glasses .   \n",
       "\n",
       "                                            caption3  \\\n",
       "0   A little girl climbing into a wooden playhouse .   \n",
       "1  A black dog and a white dog with brown spots a...   \n",
       "2  A small girl in the grass plays with fingerpai...   \n",
       "3  a man sleeping on a bench outside with a white...   \n",
       "4  A man with gauges and glasses is wearing a Bli...   \n",
       "\n",
       "                                            caption4  \\\n",
       "0  A little girl climbing the stairs to her playh...   \n",
       "1  Two dogs of different breeds looking at each o...   \n",
       "2  There is a girl with pigtails sitting in front...   \n",
       "3  A shirtless man lies on a park bench with his ...   \n",
       "4  A man with glasses is wearing a beer can croch...   \n",
       "\n",
       "                                            caption5  \n",
       "0  A little girl in a pink dress going into a woo...  \n",
       "1    Two dogs on pavement moving toward each other .  \n",
       "2  Young girl with pigtails painting outside in t...  \n",
       "3  man laying on bench holding leash of dog sitti...  \n",
       "4  The man with pierced ears is wearing glasses a...  "
      ]
     },
     "execution_count": 14,
     "metadata": {},
     "output_type": "execute_result"
    }
   ],
   "source": [
    "df.head()"
   ]
  },
  {
   "cell_type": "code",
   "execution_count": null,
   "metadata": {},
   "outputs": [],
   "source": []
  },
  {
   "cell_type": "code",
   "execution_count": 15,
   "metadata": {},
   "outputs": [
    {
     "name": "stdout",
     "output_type": "stream",
     "text": [
      "(4854, 6)\n",
      "(1618, 6)\n",
      "(1619, 6)\n"
     ]
    }
   ],
   "source": [
    "from sklearn.model_selection import train_test_split\n",
    "\n",
    "## Obtain Train and Test Split \n",
    "train, test = train_test_split(df, test_size=0.2, random_state=42)\n",
    "\n",
    "## Reset Indexes \n",
    "train = train.reset_index(drop=True)\n",
    "test = test.reset_index(drop=True)\n",
    "\n",
    "## Obtain Train and Validation Split \n",
    "train, val = train_test_split(train, test_size=0.25, random_state=42)\n",
    "\n",
    "## Reset Indexes \n",
    "train = train.reset_index(drop=True)\n",
    "val = val.reset_index(drop=True)\n",
    "\n",
    "## Let's see how many entries we have\n",
    "print(train.shape)\n",
    "print(val.shape)\n",
    "print(test.shape)"
   ]
  },
  {
   "cell_type": "code",
   "execution_count": 16,
   "metadata": {},
   "outputs": [],
   "source": [
    "device = torch.device('cuda:0' if torch.cuda.is_available() else 'cpu')"
   ]
  },
  {
   "cell_type": "code",
   "execution_count": 17,
   "metadata": {},
   "outputs": [],
   "source": [
    "from torchvision import transforms as CVtransforms\n",
    "from PIL import Image\n",
    "\n",
    "\n",
    "class FlickrDataset(torch.utils.data.Dataset):\n",
    "    \n",
    "    def __init__(self, df, \n",
    "                 transforms= None) -> None:\n",
    "        self.df = df\n",
    "        self.transforms = CVtransforms.Compose([\n",
    "            CVtransforms.Resize((256,256)),\n",
    "            CVtransforms.ToTensor(),\n",
    "            CVtransforms.Normalize(mean = [0.5], std = [0.5]),\n",
    "            \n",
    "        ])\n",
    "        \n",
    "    def __len__(self) -> int:\n",
    "        return len(self.df)\n",
    "    \n",
    "    def __getitem__(self, idx: int):\n",
    "        \n",
    "        image_id = self.df.image_name.values[idx]\n",
    "        image = Image.open(image_id).convert('RGB')\n",
    "        #print(image_id)\n",
    "        #print(type(image))\n",
    "        if self.transforms is not None:\n",
    "            image = self.transforms(image)\n",
    "            \n",
    "        comments = self.df[self.df.image_name == image_id].values.tolist()[0][1:][0] # Last zero is to obtain the first caption ONLY\n",
    "        encoded_inputs = tokenizer(comments,\n",
    "                                   return_token_type_ids = False, \n",
    "                                   return_attention_mask = False, \n",
    "                                   max_length = 100, \n",
    "                                   padding = \"max_length\",\n",
    "                                  return_tensors = \"pt\")\n",
    "        \n",
    "        sample = {\"image\":image,\"captions\": encoded_inputs[\"input_ids\"].flatten()}\n",
    "        \n",
    "        return sample"
   ]
  },
  {
   "cell_type": "code",
   "execution_count": 18,
   "metadata": {},
   "outputs": [],
   "source": [
    "batch_size = 32\n",
    "\n",
    "train_dataset = FlickrDataset(train, transforms = True)\n",
    "train_dataloader = torch.utils.data.DataLoader(train_dataset, batch_size = batch_size, drop_last=True)\n",
    "\n",
    "val_dataset = FlickrDataset(val, transforms = True)\n",
    "val_dataloader = torch.utils.data.DataLoader(val_dataset, batch_size = batch_size,drop_last=True)\n",
    "\n",
    "test_dataset = FlickrDataset(test, transforms = True)\n",
    "test_dataloader = torch.utils.data.DataLoader(test_dataset, batch_size = batch_size,drop_last=True)"
   ]
  },
  {
   "cell_type": "code",
   "execution_count": 19,
   "metadata": {},
   "outputs": [],
   "source": [
    "from torchvision import models\n",
    "\n",
    "class CNN(nn.Module):\n",
    "    def __init__(self, embed_size):\n",
    "        super(CNN, self).__init__()\n",
    "        resnet = models.resnet50(pretrained=True)\n",
    "        for param in resnet.parameters():\n",
    "            param.requires_grad_(False)\n",
    "        \n",
    "        modules = list(resnet.children())[:-1]\n",
    "        self.resnet = nn.Sequential(*modules)\n",
    "        self.embed = nn.Linear(resnet.fc.in_features, embed_size)\n",
    "\n",
    "    def forward(self, images):\n",
    "        features = self.resnet(images)\n",
    "        features = features.view(features.size(0), -1)\n",
    "        features = self.embed(features)\n",
    "        return features"
   ]
  },
  {
   "cell_type": "code",
   "execution_count": 20,
   "metadata": {},
   "outputs": [],
   "source": [
    "import torch.nn.functional as F\n",
    "\n",
    "class RNN(nn.Module):\n",
    "    def __init__(self, embed_size, hidden_size, vocab_size):\n",
    "        ''' Initialize the layers of this model.'''\n",
    "        super().__init__()\n",
    "    \n",
    "        self.hidden_size = hidden_size\n",
    "        self.word_embeddings = nn.Embedding(vocab_size, embed_size)\n",
    "        self.lstm = nn.LSTM(input_size=embed_size, \\\n",
    "                            hidden_size=hidden_size,\n",
    "                            num_layers=1,\n",
    "                            bias=True,\n",
    "                            batch_first=True, \n",
    "                            dropout=0, \n",
    "                            bidirectional=False,\n",
    "                           )\n",
    "        \n",
    "        self.vocab_size = vocab_size\n",
    "        self.linear = nn.Linear(hidden_size, vocab_size)                     \n",
    "\n",
    "    def init_hidden(self, batch_size):\n",
    "        return (torch.zeros((1, batch_size, self.hidden_size), device=device), \\\n",
    "                torch.zeros((1, batch_size, self.hidden_size), device=device))\n",
    "\n",
    "    def forward(self, features, captions):\n",
    "        \"\"\" Define the feedforward behavior of the model \"\"\"\n",
    "        captions = captions[:, :-1]     \n",
    "        self.batch_size = features.shape[0]\n",
    "        self.hidden = self.init_hidden(self.batch_size) \n",
    "        embeddings = self.word_embeddings(captions)\n",
    "        \n",
    "        embeddings = torch.cat((features.unsqueeze(1), embeddings), dim=1)\n",
    "        lstm_out, self.hidden = self.lstm(embeddings, self.hidden) \n",
    "        outputs = self.linear(lstm_out)\n",
    "\n",
    "        return outputs\n",
    "\n",
    "    ## Greedy search \n",
    "    def sample(self, inputs):\n",
    "        \" accepts pre-processed image tensor (inputs) and returns predicted sentence (list of tensor ids of length max_len) \"\n",
    "        \n",
    "        \n",
    "        output = []\n",
    "        batch_size = inputs.shape[0]\n",
    "        hidden = self.init_hidden(batch_size) \n",
    "    \n",
    "        while True:\n",
    "            outputs, hidden = self.get_outputs(inputs, hidden) \n",
    "            _, max_index = torch.max(outputs, dim=1)\n",
    "            output.append(max_index.cpu().numpy()[0].item())\n",
    "            if (tokenizer.convert_ids_to_tokens([max_index])[0] == '[PAD]' or tokenizer.convert_ids_to_tokens([max_index])[0] == '[UNK]'  ):\n",
    "                break\n",
    "            \n",
    "            inputs = self.get_next_word_input(max_index)\n",
    "            \n",
    "        return output\n",
    "    \n",
    "    \n",
    "    def modified_beam_search(self, inputs, beams = 2, topk=3):\n",
    "        batch_size = inputs.shape[0]\n",
    "        hidden = self.init_hidden(batch_size)\n",
    "        probDic=dict()\n",
    "        indexDic=dict()\n",
    "        hiddenDic=dict()\n",
    "        \n",
    "        output = []\n",
    "        outputs, hidden = self.get_outputs(inputs, hidden)\n",
    "        _,max_index = torch.max(outputs, dim=1)\n",
    "        output.append(max_index.cpu().numpy()[0].item())\n",
    "        inputs = self.get_next_word_input(max_index)\n",
    "        \n",
    "        for b in range(beams):\n",
    "            #print('input shape ',b,\" \",inputs.shape)\n",
    "            outputs, hidden = self.get_outputs(inputs, hidden)\n",
    "            #print('outputs shape ',b,\" \",outputs.shape)\n",
    "            if(len(outputs.size())>2):\n",
    "                outputs = torch.squeeze(outputs)\n",
    "            logits, max_indices = torch.topk(outputs,k=topk, dim=1)\n",
    "            \n",
    "            #print('logits shape ',b,\" \",logits.shape)\n",
    "            #print('maxindices shape ',b,\" \",max_indices.shape)\n",
    "            probDic[b] = torch.squeeze(F.softmax(logits,dim=1))\n",
    "            indexDic[b] = torch.squeeze(max_indices)\n",
    "            hiddenDic[b] = hidden\n",
    "            inputs = self.get_next_word_input(max_indices)\n",
    "        \n",
    "        for i in range(len(probDic)-1):\n",
    "            dimlst = [topk]*(i+2)\n",
    "            sz = probDic[i+1].size()\n",
    "            probDic[i+1] = (probDic[i+1].view(dimlst)*(probDic[i].view([topk]*(i+1)+[1]))).view(sz)\n",
    "        \n",
    "        for i in range(len(probDic)-1,0,-1):\n",
    "            probDic[i-1]=probDic[i-1]*(torch.max(probDic[i],dim=1)[0]).view(probDic[i-1].size())\n",
    "        \n",
    "        \n",
    "        lastInd=torch.Tensor([])\n",
    "        for i in range(len(probDic)):\n",
    "            arg = torch.argmax(probDic[i])\n",
    "            idxarg = None\n",
    "            if i==0:\n",
    "                idxarg = [arg//topk]\n",
    "            else:\n",
    "                idxarg= [arg//topk,arg%topk]\n",
    "            \n",
    "            if i==len(probDic)-1:\n",
    "                lastInd = indexDic[i][idxarg]\n",
    "            output.append(indexDic[i][idxarg].cpu().numpy().item())\n",
    "        \n",
    "        \n",
    "        inputs = self.get_next_word_input(torch.unsqueeze(lastInd,0))\n",
    "        hidden = hiddenDic[beams-1]\n",
    "        \n",
    "        \n",
    "        while True:\n",
    "            outputs, hidden = self.get_outputs(inputs, hidden) \n",
    "            _, max_index = torch.max(outputs, dim=1)\n",
    "            output.append(max_index.cpu().numpy()[0].item())\n",
    "            \n",
    "            if (tokenizer.convert_ids_to_tokens([max_index])[0] == '[PAD]' or tokenizer.convert_ids_to_tokens([max_index])[0] == '[UNK]'  ):\n",
    "                break\n",
    "            \n",
    "            inputs = self.get_next_word_input(max_index)\n",
    "            \n",
    "        return output\n",
    "        \n",
    "    def get_outputs(self, inputs, hidden):\n",
    "        lstm_out, hidden = self.lstm(inputs, hidden) # lstm_out shape : (1, 1, hidden_size)\n",
    "        outputs = self.linear(lstm_out)  # outputs shape : (1, 1, vocab_size)\n",
    "        outputs = outputs.squeeze(1) # outputs shape : (1, vocab_size)\n",
    "\n",
    "        return outputs, hidden\n",
    "\n",
    "    def get_next_word_input(self, max_indice):\n",
    "        ## Prepare to embed the last predicted word to be the new input of the lstm\n",
    "        if max_indice.size()[0]>1:\n",
    "            max_indice = max_indice.view((1,max_indice.size()[0]*max_indice.size()[1]))\n",
    "            \n",
    "        inputs = self.word_embeddings(max_indice) # inputs shape : (1, embed_size)\n",
    "        if len(inputs.size())<3:\n",
    "            inputs = inputs.unsqueeze(1) # inputs shape : (1, 1, embed_size)\n",
    "        \n",
    "        return inputs"
   ]
  },
  {
   "cell_type": "code",
   "execution_count": 21,
   "metadata": {},
   "outputs": [
    {
     "name": "stdout",
     "output_type": "stream",
     "text": [
      "Image Transformation:  torch.Size([32, 3, 256, 256])  -->  torch.Size([32, 512])\n",
      "Captions Transformation:  torch.Size([32, 100])  -->  torch.Size([32, 100, 40000])\n"
     ]
    }
   ],
   "source": [
    "\n",
    "\n",
    "example_batch = next(iter(train_dataloader))\n",
    "\n",
    "image, captions = example_batch[\"image\"], example_batch[\"captions\"]\n",
    "image, captions = image.to(device), captions.to(device)\n",
    "\n",
    "encoder = CNN(embed_size = 512).to(device)\n",
    "decoder = RNN(embed_size=512, hidden_size = 512, vocab_size = 40000).to(device)\n",
    "\n",
    "features = encoder(image)\n",
    "\n",
    "embed = decoder(features, captions)\n",
    "\n",
    "print(\"Image Transformation: \", image.shape, \" --> \", features.shape)\n",
    "print(\"Captions Transformation: \", captions.shape, \" --> \", embed.shape)"
   ]
  },
  {
   "cell_type": "code",
   "execution_count": 22,
   "metadata": {},
   "outputs": [],
   "source": [
    "%%capture\n",
    "\n",
    "vocab_size = 60000\n",
    "steps_per_epoch = 19069 // 32\n",
    "\n",
    "encoder = CNN(embed_size = 512).to(device)\n",
    "decoder = RNN(embed_size=512, hidden_size = 512, vocab_size = vocab_size).to(device)\n",
    "\n",
    "criterion = nn.CrossEntropyLoss().to(device)\n",
    "params = list(decoder.parameters()) + list(encoder.embed.parameters())\n",
    "\n",
    "optimizer = torch.optim.Adam(params, lr=0.001)"
   ]
  },
  {
   "cell_type": "code",
   "execution_count": 22,
   "metadata": {},
   "outputs": [
    {
     "name": "stderr",
     "output_type": "stream",
     "text": [
      "<ipython-input-22-d41b63755e0c>:6: UserWarning: To copy construct from a tensor, it is recommended to use sourceTensor.clone().detach() or sourceTensor.clone().detach().requires_grad_(True), rather than torch.tensor(sourceTensor).\n",
      "  image, captions = torch.tensor(sample['image']).to(device), torch.tensor(sample['captions']).to(device)\n"
     ]
    },
    {
     "name": "stdout",
     "output_type": "stream",
     "text": [
      "Epoch [9], Loss: 0.23687"
     ]
    }
   ],
   "source": [
    "\n",
    "for epoch in range(10):\n",
    "    for idx, sample in enumerate(train_dataloader):\n",
    "        if idx > steps_per_epoch:\n",
    "            break\n",
    "        \n",
    "        image, captions = torch.tensor(sample['image']).to(device), torch.tensor(sample['captions']).to(device)\n",
    "        \n",
    "        # zero the parameter gradients\n",
    "        decoder.zero_grad()\n",
    "        encoder.zero_grad()\n",
    "        \n",
    "        # Forward pass\n",
    "        features = encoder(image)\n",
    "        outputs = decoder(features, captions)\n",
    "        \n",
    "        # Compute the Loss\n",
    "        loss = criterion(outputs.view(-1, vocab_size), \n",
    "                         captions.view(-1))\n",
    "        \n",
    "        # Backward pass.\n",
    "        loss.backward()\n",
    "        \n",
    "        # Update the parameters in the optimizer.\n",
    "        optimizer.step()\n",
    "            \n",
    "        # Get training statistics.\n",
    "        if(idx%200 == 0):\n",
    "            stats = 'Epoch [%d], Loss: %.4f' % (epoch, loss.item())\n",
    "            print('\\r' + stats, end=\"\")"
   ]
  },
  {
   "cell_type": "code",
   "execution_count": null,
   "metadata": {},
   "outputs": [],
   "source": []
  },
  {
   "cell_type": "code",
   "execution_count": null,
   "metadata": {},
   "outputs": [],
   "source": []
  },
  {
   "cell_type": "code",
   "execution_count": 23,
   "metadata": {},
   "outputs": [],
   "source": [
    "rand = np.random.randint(0,1000)\n",
    "enc_path = f'./caption/encoder-{rand}.pth'\n",
    "dec_path = f'./caption/decoder-{rand}.pth'\n",
    "\n",
    "\n",
    "torch.save(encoder.state_dict(), enc_path)\n",
    "torch.save(decoder.state_dict(), dec_path)"
   ]
  },
  {
   "cell_type": "code",
   "execution_count": 23,
   "metadata": {},
   "outputs": [
    {
     "data": {
      "text/plain": [
       "RNN(\n",
       "  (word_embeddings): Embedding(60000, 512)\n",
       "  (lstm): LSTM(512, 512, batch_first=True)\n",
       "  (linear): Linear(in_features=512, out_features=60000, bias=True)\n",
       ")"
      ]
     },
     "execution_count": 23,
     "metadata": {},
     "output_type": "execute_result"
    }
   ],
   "source": [
    "encoder = CNN(embed_size = 512).to(device)\n",
    "decoder = RNN(embed_size=512, hidden_size = 512, vocab_size = vocab_size).to(device)\n",
    "\n",
    "enc_path = f'./caption/encoder-815.pth'\n",
    "dec_path = f'./caption/decoder-815.pth'\n",
    "\n",
    "\n",
    "encoder.load_state_dict(torch.load(enc_path))\n",
    "encoder.eval()\n",
    "decoder.load_state_dict(torch.load(dec_path))\n",
    "decoder.eval()"
   ]
  },
  {
   "cell_type": "code",
   "execution_count": 24,
   "metadata": {},
   "outputs": [
    {
     "name": "stdout",
     "output_type": "stream",
     "text": [
      " a big dog chases a little dog on the grass .                                                                                        \n",
      "[101, 1037, 2829, 3899, 1999, 1996, 5568, 1012, 102, 0]\n",
      "predicted:  a brown dog in the grass .  \n"
     ]
    },
    {
     "data": {
      "image/png": "[encoded data removed]",
      "text/plain": [
       "<Figure size 432x288 with 1 Axes>"
      ]
     },
     "metadata": {
      "needs_background": "light"
     },
     "output_type": "display_data"
    }
   ],
   "source": [
    "from matplotlib import cm\n",
    "import re\n",
    "\n",
    "pattern = r'\\[.*?\\]'\n",
    "example_batch = next(iter(test_dataloader))\n",
    "\n",
    "idx = 22\n",
    "\n",
    "def format_output(token_lst):\n",
    "    string = \" \".join([ i if i[0]!='[' else '' for i in tokenizer.convert_ids_to_tokens(token_lst)])\n",
    "    return string\n",
    "\n",
    "image, caption = example_batch[\"image\"][idx], example_batch[\"captions\"][idx]\n",
    "PILtransf =  CVtransforms.ToPILImage()\n",
    "print(format_output(caption))\n",
    "plt.imshow(PILtransf(image).convert('RGB'))\n",
    "image, caption = image.to(device), caption.to(device)\n",
    "\n",
    "# image = Image.open('./caption/sample/dog_on_road.jpg')\n",
    "# plt.imshow(image)\n",
    "\n",
    "# sampleTransforms = CVtransforms.Compose([\n",
    "#             CVtransforms.Resize((256,256)),\n",
    "#             CVtransforms.ToTensor(),\n",
    "#             CVtransforms.Normalize(mean = [0.5], std = [0.5]),\n",
    "            \n",
    "#         ])\n",
    "\n",
    "# image = sampleTransforms(image)\n",
    "\n",
    "\n",
    "\n",
    "\n",
    "image = image.to(device)\n",
    "with torch.no_grad():\n",
    "    features = encoder(torch.unsqueeze(image,0)).unsqueeze(1)\n",
    "    #output = decoder.sample(features)\n",
    "    output = decoder.modified_beam_search(features,beams=3)\n",
    "    \n",
    "#print(probdic)\n",
    "print(output)\n",
    "#print(tokenizer.convert_ids_to_tokens(output))\n",
    "print(f'predicted: {format_output(output)}')"
   ]
  },
  {
   "cell_type": "code",
   "execution_count": null,
   "metadata": {},
   "outputs": [],
   "source": []
  },
  {
   "cell_type": "code",
   "execution_count": null,
   "metadata": {},
   "outputs": [],
   "source": []
  }
 ],
 "metadata": {
  "kernelspec": {
   "display_name": "Python 3",
   "language": "python",
   "name": "python3"
  },
  "language_info": {
   "codemirror_mode": {
    "name": "ipython",
    "version": 3
   },
   "file_extension": ".py",
   "mimetype": "text/x-python",
   "name": "python",
   "nbconvert_exporter": "python",
   "pygments_lexer": "ipython3",
   "version": "3.8.3"
  }
 },
 "nbformat": 4,
 "nbformat_minor": 4
}
